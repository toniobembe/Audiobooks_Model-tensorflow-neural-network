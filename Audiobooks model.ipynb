{
 "cells": [
  {
   "cell_type": "code",
   "execution_count": 1,
   "metadata": {},
   "outputs": [],
   "source": [
    "import numpy as np\n",
    "import tensorflow as tf"
   ]
  },
  {
   "cell_type": "code",
   "execution_count": 2,
   "metadata": {},
   "outputs": [],
   "source": [
    "#Temporary variable to load train, validation and target data from npz files\n",
    "npz = np.load('Audiobooks_data_train.npz')\n",
    "\n",
    "#Makes sure it's of the type float and integer respectively\n",
    "train_inputs,train_targets = npz['inputs'].astype(np.float), npz['targets'].astype(np.int)\n",
    "\n",
    "#Repeat the same process for validation and test data\n",
    "npz = np.load('Audiobooks_data_validation.npz')\n",
    "validation_inputs,validation_targets = npz['inputs'].astype(np.float), npz['targets'].astype(np.int)\n",
    "\n",
    "npz = np.load('Audiobooks_data_test.npz')\n",
    "test_inputs,test_targets = npz['inputs'].astype(np.float), npz['targets'].astype(np.int)"
   ]
  },
  {
   "cell_type": "code",
   "execution_count": 3,
   "metadata": {},
   "outputs": [
    {
     "name": "stdout",
     "output_type": "stream",
     "text": [
      "Train on 3579 samples, validate on 447 samples\n",
      "Epoch 1/100\n",
      "3579/3579 - 0s - loss: 0.6439 - accuracy: 0.6284 - val_loss: 0.5966 - val_accuracy: 0.6711\n",
      "Epoch 2/100\n",
      "3579/3579 - 0s - loss: 0.5693 - accuracy: 0.6885 - val_loss: 0.5436 - val_accuracy: 0.7114\n",
      "Epoch 3/100\n",
      "3579/3579 - 0s - loss: 0.5151 - accuracy: 0.7220 - val_loss: 0.5021 - val_accuracy: 0.7293\n",
      "Epoch 4/100\n",
      "3579/3579 - 0s - loss: 0.4725 - accuracy: 0.7530 - val_loss: 0.4715 - val_accuracy: 0.7427\n",
      "Epoch 5/100\n",
      "3579/3579 - 0s - loss: 0.4422 - accuracy: 0.7689 - val_loss: 0.4513 - val_accuracy: 0.7539\n",
      "Epoch 6/100\n",
      "3579/3579 - 0s - loss: 0.4213 - accuracy: 0.7865 - val_loss: 0.4352 - val_accuracy: 0.7629\n",
      "Epoch 7/100\n",
      "3579/3579 - 0s - loss: 0.4051 - accuracy: 0.7952 - val_loss: 0.4241 - val_accuracy: 0.7718\n",
      "Epoch 8/100\n",
      "3579/3579 - 0s - loss: 0.3933 - accuracy: 0.7997 - val_loss: 0.4153 - val_accuracy: 0.7740\n",
      "Epoch 9/100\n",
      "3579/3579 - 0s - loss: 0.3835 - accuracy: 0.7988 - val_loss: 0.4091 - val_accuracy: 0.7673\n",
      "Epoch 10/100\n",
      "3579/3579 - 0s - loss: 0.3761 - accuracy: 0.8019 - val_loss: 0.4042 - val_accuracy: 0.7875\n",
      "Epoch 11/100\n",
      "3579/3579 - 0s - loss: 0.3723 - accuracy: 0.7994 - val_loss: 0.3996 - val_accuracy: 0.7696\n",
      "Epoch 12/100\n",
      "3579/3579 - 0s - loss: 0.3664 - accuracy: 0.8058 - val_loss: 0.3952 - val_accuracy: 0.7763\n",
      "Epoch 13/100\n",
      "3579/3579 - 0s - loss: 0.3625 - accuracy: 0.8047 - val_loss: 0.3932 - val_accuracy: 0.7651\n",
      "Epoch 14/100\n",
      "3579/3579 - 0s - loss: 0.3587 - accuracy: 0.8061 - val_loss: 0.3897 - val_accuracy: 0.7852\n",
      "Epoch 15/100\n",
      "3579/3579 - 0s - loss: 0.3542 - accuracy: 0.8097 - val_loss: 0.3886 - val_accuracy: 0.7696\n",
      "Epoch 16/100\n",
      "3579/3579 - 0s - loss: 0.3528 - accuracy: 0.8083 - val_loss: 0.3848 - val_accuracy: 0.7785\n",
      "Epoch 17/100\n",
      "3579/3579 - 0s - loss: 0.3513 - accuracy: 0.8075 - val_loss: 0.3825 - val_accuracy: 0.7919\n",
      "Epoch 18/100\n",
      "3579/3579 - 0s - loss: 0.3483 - accuracy: 0.8161 - val_loss: 0.3815 - val_accuracy: 0.7785\n",
      "Epoch 19/100\n",
      "3579/3579 - 0s - loss: 0.3466 - accuracy: 0.8161 - val_loss: 0.3795 - val_accuracy: 0.7830\n",
      "Epoch 20/100\n",
      "3579/3579 - 0s - loss: 0.3437 - accuracy: 0.8142 - val_loss: 0.3766 - val_accuracy: 0.7897\n",
      "Epoch 21/100\n",
      "3579/3579 - 0s - loss: 0.3434 - accuracy: 0.8131 - val_loss: 0.3804 - val_accuracy: 0.7651\n",
      "Epoch 22/100\n",
      "3579/3579 - 0s - loss: 0.3415 - accuracy: 0.8145 - val_loss: 0.3731 - val_accuracy: 0.7830\n",
      "Epoch 23/100\n",
      "3579/3579 - 0s - loss: 0.3404 - accuracy: 0.8156 - val_loss: 0.3710 - val_accuracy: 0.7808\n",
      "Epoch 24/100\n",
      "3579/3579 - 0s - loss: 0.3387 - accuracy: 0.8159 - val_loss: 0.3725 - val_accuracy: 0.7808\n",
      "Epoch 25/100\n",
      "3579/3579 - 0s - loss: 0.3378 - accuracy: 0.8150 - val_loss: 0.3710 - val_accuracy: 0.7875\n",
      "Epoch 26/100\n",
      "3579/3579 - 0s - loss: 0.3372 - accuracy: 0.8167 - val_loss: 0.3735 - val_accuracy: 0.7919\n",
      "Epoch 27/100\n",
      "3579/3579 - 0s - loss: 0.3338 - accuracy: 0.8215 - val_loss: 0.3710 - val_accuracy: 0.7808\n",
      "Epoch 28/100\n",
      "3579/3579 - 0s - loss: 0.3363 - accuracy: 0.8175 - val_loss: 0.3681 - val_accuracy: 0.7830\n",
      "Epoch 29/100\n",
      "3579/3579 - 0s - loss: 0.3326 - accuracy: 0.8245 - val_loss: 0.3658 - val_accuracy: 0.7785\n",
      "Epoch 30/100\n",
      "3579/3579 - 0s - loss: 0.3319 - accuracy: 0.8192 - val_loss: 0.3639 - val_accuracy: 0.7830\n",
      "Epoch 31/100\n",
      "3579/3579 - 0s - loss: 0.3302 - accuracy: 0.8248 - val_loss: 0.3654 - val_accuracy: 0.7852\n",
      "Epoch 32/100\n",
      "3579/3579 - 0s - loss: 0.3309 - accuracy: 0.8195 - val_loss: 0.3688 - val_accuracy: 0.7919\n"
     ]
    },
    {
     "data": {
      "text/plain": [
       "<tensorflow.python.keras.callbacks.History at 0x24531618bc8>"
      ]
     },
     "execution_count": 3,
     "metadata": {},
     "output_type": "execute_result"
    }
   ],
   "source": [
    "#Outlining the model\n",
    "input_size= 10\n",
    "output_size =2\n",
    "hidden_layer_1 = 16\n",
    "hidden_layer_2 = 16\n",
    "model = tf.keras.Sequential([\n",
    "                            tf.keras.layers.Dense(hidden_layer_1, activation='relu'),#Hyperparameter to play around with\n",
    "                            tf.keras.layers.Dense(hidden_layer_2, activation='relu'),\n",
    "                            tf.keras.layers.Dense(output_size, activation='softmax'),\n",
    "])\n",
    "\n",
    "model.compile(optimizer=\"adam\", loss=\"sparse_categorical_crossentropy\", metrics=[\"accuracy\"])\n",
    "\n",
    "batch_size = 100\n",
    "\n",
    "max_epochs =100\n",
    "\n",
    "#Stops the training if the validation loss increases consistently(twice in this model)\n",
    "early_stopping = tf.keras.callbacks.EarlyStopping(patience = 2)\n",
    "\n",
    "model.fit(train_inputs,\n",
    "          train_targets,\n",
    "          batch_size = batch_size,\n",
    "          epochs = max_epochs,\n",
    "          callbacks = [early_stopping],\n",
    "          validation_data = (validation_inputs, validation_targets),\n",
    "          verbose = 2)"
   ]
  },
  {
   "cell_type": "code",
   "execution_count": 4,
   "metadata": {},
   "outputs": [
    {
     "name": "stdout",
     "output_type": "stream",
     "text": [
      "448/448 [==============================] - 0s 154us/sample - loss: 0.3380 - accuracy: 0.8237\n"
     ]
    }
   ],
   "source": [
    "#Test model\n",
    "test_loss, test_accuracy = model.evaluate(test_inputs,test_targets)"
   ]
  },
  {
   "cell_type": "code",
   "execution_count": 5,
   "metadata": {},
   "outputs": [
    {
     "name": "stdout",
     "output_type": "stream",
     "text": [
      "Test loss: 0.34. Test accuracy: 82.37%\n"
     ]
    }
   ],
   "source": [
    "print(\"Test loss: {0:.2f}. Test accuracy: {1:.2f}%\".format(test_loss, test_accuracy*100.))"
   ]
  },
  {
   "cell_type": "code",
   "execution_count": 6,
   "metadata": {},
   "outputs": [],
   "source": [
    "#Save the model\n",
    "model.save('Audiobooks.h5')"
   ]
  }
 ],
 "metadata": {
  "kernelspec": {
   "display_name": "Python 3",
   "language": "python",
   "name": "python3"
  },
  "language_info": {
   "codemirror_mode": {
    "name": "ipython",
    "version": 3
   },
   "file_extension": ".py",
   "mimetype": "text/x-python",
   "name": "python",
   "nbconvert_exporter": "python",
   "pygments_lexer": "ipython3",
   "version": "3.7.6"
  }
 },
 "nbformat": 4,
 "nbformat_minor": 4
}
